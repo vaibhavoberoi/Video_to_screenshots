{
  "nbformat": 4,
  "nbformat_minor": 0,
  "metadata": {
    "colab": {
      "name": "Video_to_screenshots.ipynb",
      "provenance": [],
      "collapsed_sections": [],
      "mount_file_id": "1ZZbSmYDPcHb5muYEJ5ioum1KhlCHLSZB",
      "authorship_tag": "ABX9TyPHUEV7jCjK0mAmV5KkxKX9",
      "include_colab_link": true
    },
    "kernelspec": {
      "name": "python3",
      "display_name": "Python 3"
    },
    "accelerator": "GPU"
  },
  "cells": [
    {
      "cell_type": "markdown",
      "metadata": {
        "id": "view-in-github",
        "colab_type": "text"
      },
      "source": [
        "<a href=\"https://colab.research.google.com/github/vaibhavoberoi/Video_to_screenshots/blob/master/Video_to_screenshots.ipynb\" target=\"_parent\"><img src=\"https://colab.research.google.com/assets/colab-badge.svg\" alt=\"Open In Colab\"/></a>"
      ]
    },
    {
      "cell_type": "code",
      "metadata": {
        "id": "VnZhG7xjSoLn",
        "colab_type": "code",
        "colab": {}
      },
      "source": [
        "from google.colab import drive\n",
        "drive.mount('/content/drive')"
      ],
      "execution_count": 0,
      "outputs": []
    },
    {
      "cell_type": "code",
      "metadata": {
        "id": "c6CLHxkMLK7p",
        "colab_type": "code",
        "colab": {}
      },
      "source": [
        "import cv2\n",
        "import glob\n",
        "import math"
      ],
      "execution_count": 0,
      "outputs": []
    },
    {
      "cell_type": "code",
      "metadata": {
        "id": "n-4ehdi_SrWo",
        "colab_type": "code",
        "colab": {}
      },
      "source": [
        "files=glob.glob('/content/drive/My Drive/Data/Videos/*.mp4')"
      ],
      "execution_count": 0,
      "outputs": []
    },
    {
      "cell_type": "code",
      "metadata": {
        "id": "jhNpbhdvLouS",
        "colab_type": "code",
        "outputId": "bef873bf-9716-49dc-a088-3df2191a9784",
        "colab": {
          "base_uri": "https://localhost:8080/",
          "height": 34
        }
      },
      "source": [
        "len(files)"
      ],
      "execution_count": 0,
      "outputs": [
        {
          "output_type": "execute_result",
          "data": {
            "text/plain": [
              "11"
            ]
          },
          "metadata": {
            "tags": []
          },
          "execution_count": 40
        }
      ]
    },
    {
      "cell_type": "code",
      "metadata": {
        "id": "OIwO7sPbTscd",
        "colab_type": "code",
        "outputId": "640d7ece-83b7-467b-e0e6-ef1ad025d70a",
        "colab": {
          "base_uri": "https://localhost:8080/",
          "height": 34
        }
      },
      "source": [
        "# Checking the frame rate of the recorded videos\n",
        "cam=cv2.VideoCapture(files[0])\n",
        "fps=cam.get(cv2.CAP_PROP_FPS)\n",
        "fps=math.ceil(fps)\n",
        "print(fps)"
      ],
      "execution_count": 0,
      "outputs": [
        {
          "output_type": "stream",
          "text": [
            "30\n"
          ],
          "name": "stdout"
        }
      ]
    },
    {
      "cell_type": "code",
      "metadata": {
        "id": "XKWh4Ox9S-XN",
        "colab_type": "code",
        "colab": {}
      },
      "source": [
        "\n",
        "# This part captures the screenshots and saves them in the specified directory\n",
        "vid_count=1\n",
        "for file in files:\n",
        "  cam=cv2.VideoCapture(file)\n",
        "  n=1\n",
        "  flag=True\n",
        "  while(flag==True):\n",
        "    i,frame=cam.read()\n",
        "    if (i==False):\n",
        "      flag=False  #flag is set to False when there are no more frames in the video/ video has ended.\n",
        "      continue\n",
        "    if n%(2*fps)==0:       #Screenshot interval is set to 2 seconds.\n",
        "      frame=cv2.rotate(frame,cv2.ROTATE_90_COUNTERCLOCKWISE)           #correcting orientation only when necessary\n",
        "      cv2.imwrite('/content/drive/My Drive/Data/Screenshots/scrn_'+str(vid_count)+'_'+str(int(n/2/fps))+'.jpg',frame) #saving in .jpg format\n",
        "    n+=1\n",
        "  vid_count+=1"
      ],
      "execution_count": 0,
      "outputs": []
    }
  ]
}